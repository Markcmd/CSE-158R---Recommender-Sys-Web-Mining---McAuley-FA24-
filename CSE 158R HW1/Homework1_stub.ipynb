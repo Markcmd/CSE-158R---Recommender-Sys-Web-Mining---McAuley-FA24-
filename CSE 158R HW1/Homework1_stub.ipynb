{
  "cells": [
    {
      "cell_type": "code",
      "execution_count": 1,
      "id": "d545425e",
      "metadata": {
        "id": "d545425e"
      },
      "outputs": [],
      "source": [
        "import json\n",
        "from matplotlib import pyplot as plt\n",
        "from collections import defaultdict\n",
        "from sklearn import linear_model\n",
        "import numpy\n",
        "import random\n",
        "import gzip\n",
        "import math"
      ]
    },
    {
      "cell_type": "code",
      "execution_count": 3,
      "id": "d577aff3",
      "metadata": {
        "id": "d577aff3"
      },
      "outputs": [],
      "source": [
        "import warnings\n",
        "warnings.filterwarnings(\"ignore\")"
      ]
    },
    {
      "cell_type": "code",
      "execution_count": 4,
      "id": "e74ac91e",
      "metadata": {
        "id": "e74ac91e"
      },
      "outputs": [],
      "source": [
        "def assertFloat(x): # Checks that an answer is a float\n",
        "    assert type(float(x)) == float\n",
        "\n",
        "def assertFloatList(items, N):\n",
        "    assert len(items) == N\n",
        "    assert [type(float(x)) for x in items] == [float]*N"
      ]
    },
    {
      "cell_type": "code",
      "execution_count": 5,
      "id": "1a7911bf",
      "metadata": {
        "id": "1a7911bf"
      },
      "outputs": [],
      "source": [
        "f = gzip.open(\"young_adult_10000.json.gz\")\n",
        "dataset = []\n",
        "for l in f:\n",
        "    dataset.append(json.loads(l))"
      ]
    },
    {
      "cell_type": "code",
      "execution_count": 6,
      "id": "85100ed3",
      "metadata": {
        "id": "85100ed3",
        "outputId": "f725ff81-afe2-4ab4-8f03-3192a4029332",
        "colab": {
          "base_uri": "https://localhost:8080/"
        }
      },
      "outputs": [
        {
          "output_type": "execute_result",
          "data": {
            "text/plain": [
              "10000"
            ]
          },
          "metadata": {},
          "execution_count": 6
        }
      ],
      "source": [
        "len(dataset)"
      ]
    },
    {
      "cell_type": "code",
      "execution_count": 19,
      "id": "e716aa89",
      "metadata": {
        "id": "e716aa89"
      },
      "outputs": [],
      "source": [
        "answers = {} # Put your answers to each question in this dictionary"
      ]
    },
    {
      "cell_type": "code",
      "execution_count": 7,
      "id": "cb2c286a",
      "metadata": {
        "id": "cb2c286a",
        "outputId": "90da9565-b03a-4b88-8535-52f5038b9a55",
        "colab": {
          "base_uri": "https://localhost:8080/"
        }
      },
      "outputs": [
        {
          "output_type": "execute_result",
          "data": {
            "text/plain": [
              "{'user_id': '8842281e1d1347389f2ab93d60773d4d',\n",
              " 'book_id': '2767052',\n",
              " 'review_id': '248c011811e945eca861b5c31a549291',\n",
              " 'rating': 5,\n",
              " 'review_text': \"I cracked and finally picked this up. Very enjoyable quick read - couldn't put it down - it was like crack. \\n I'm a bit bothered by the lack of backstory of how Panem and the Hunger Games come about. It is just kind of explained away in a few paragraphs and we are left to accept this very strange world where teenagers are pitted into an arena each year to kill each other? I was expecting it because I've seen Battle Royale, but I would have appreciated knowing more of the backstory of how the world could have come into such a odd state. \\n I suppose what makes a book like this interesting is thinking about the strategy of it all. The players are going to be statistically encouraged to band together because they will last longer that way, but by definition of course any partnership will be broken, and the drama of how that unfolds is always interesting and full of friendships broken and betrayal. Each character approached the game in their own way. Some banded together in larger coalitions, some were loners initially and banded together later. And some were just loners, like Foxface. A lot depended on your survival skill: could you find food and water on your own? Self-dependence is highly valued - and of course our hero was strong there. \\n All in all, a fun read, but I feel kind of dirty for having read it.\",\n",
              " 'date_added': 'Wed Jan 13 13:38:25 -0800 2010',\n",
              " 'date_updated': 'Wed Mar 22 11:46:36 -0700 2017',\n",
              " 'read_at': 'Sun Mar 25 00:00:00 -0700 2012',\n",
              " 'started_at': 'Fri Mar 23 00:00:00 -0700 2012',\n",
              " 'n_votes': 24,\n",
              " 'n_comments': 25}"
            ]
          },
          "metadata": {},
          "execution_count": 7
        }
      ],
      "source": [
        "dataset[0]"
      ]
    },
    {
      "cell_type": "markdown",
      "source": [
        "# Question 1"
      ],
      "metadata": {
        "id": "qQVmC85hdASF"
      },
      "id": "qQVmC85hdASF"
    },
    {
      "cell_type": "code",
      "execution_count": 8,
      "id": "2a260695",
      "metadata": {
        "id": "2a260695"
      },
      "outputs": [],
      "source": [
        "### Question 1"
      ]
    },
    {
      "cell_type": "code",
      "execution_count": 11,
      "id": "fea5f8f2",
      "metadata": {
        "id": "fea5f8f2"
      },
      "outputs": [],
      "source": [
        "# Vectors of the features, specifically for count of the \"!\" character.\n",
        "def feature(datum):\n",
        "  # your implementation\n",
        "  # review_text from datum\n",
        "  text = datum['review_text']\n",
        "\n",
        "  # count \"!\"\n",
        "  count = text.count('!')\n",
        "\n",
        "  # return feature vector with first column is 1\n",
        "  return [1, count]"
      ]
    },
    {
      "cell_type": "code",
      "execution_count": 15,
      "id": "8f00dea9",
      "metadata": {
        "id": "8f00dea9"
      },
      "outputs": [],
      "source": [
        "# Matrix of the features\n",
        "X = numpy.array([feature(datum = data) for data in dataset])\n",
        "\n",
        "# Vector of the outputs\n",
        "Y = numpy.array([data['rating'] for data in dataset])"
      ]
    },
    {
      "cell_type": "markdown",
      "source": [
        "$$\n",
        "\\theta = (X^T X)^{-1} X^T y\n",
        "$$\n",
        "\n"
      ],
      "metadata": {
        "id": "ieLPOAYgebIB"
      },
      "id": "ieLPOAYgebIB"
    },
    {
      "cell_type": "code",
      "source": [
        "# Calculate Thetas, with Psuedo Inverse of X.\n",
        "theta0, theta1 = numpy.linalg.inv(X.T @ X) @ X.T @ Y"
      ],
      "metadata": {
        "id": "sxIEOytbbL9x"
      },
      "id": "sxIEOytbbL9x",
      "execution_count": 16,
      "outputs": []
    },
    {
      "cell_type": "markdown",
      "source": [
        "$$\\text{MSE}: \\frac{1}{N} \\sum_{i=1}^{N} \\left( X_i \\cdot \\theta - y_i \\right)^2$$, $$X\\theta = y$$\n",
        "\n"
      ],
      "metadata": {
        "id": "zGx_iYJHgpfj"
      },
      "id": "zGx_iYJHgpfj"
    },
    {
      "cell_type": "code",
      "source": [
        "# Calculate MSE\n",
        "mse = ((Y - theta0 - theta1 * X[:, 1]) ** 2).mean()"
      ],
      "metadata": {
        "id": "SVU71OQAf9MY"
      },
      "id": "SVU71OQAf9MY",
      "execution_count": 17,
      "outputs": []
    },
    {
      "cell_type": "code",
      "execution_count": 20,
      "id": "51581a4f",
      "metadata": {
        "id": "51581a4f",
        "outputId": "4a528d1c-8d9a-4e53-bd73-91589fcc975b",
        "colab": {
          "base_uri": "https://localhost:8080/"
        }
      },
      "outputs": [
        {
          "output_type": "stream",
          "name": "stdout",
          "text": [
            "[3.6885330408320183, 0.07109019019954144, 1.5231747404538287]\n"
          ]
        }
      ],
      "source": [
        "answers['Q1'] = [theta0, theta1, mse]\n",
        "print(answers['Q1'])"
      ]
    },
    {
      "cell_type": "code",
      "execution_count": 21,
      "id": "525fd954",
      "metadata": {
        "id": "525fd954"
      },
      "outputs": [],
      "source": [
        "assertFloatList(answers['Q1'], 3) # Check the format of your answer (three floats)"
      ]
    },
    {
      "cell_type": "code",
      "execution_count": null,
      "id": "8b84731b",
      "metadata": {
        "id": "8b84731b"
      },
      "outputs": [],
      "source": [
        "### Question 2"
      ]
    },
    {
      "cell_type": "code",
      "execution_count": null,
      "id": "982ea2f5",
      "metadata": {
        "id": "982ea2f5"
      },
      "outputs": [],
      "source": [
        "def feature(datum):\n"
      ]
    },
    {
      "cell_type": "code",
      "execution_count": null,
      "id": "cda70702",
      "metadata": {
        "id": "cda70702"
      },
      "outputs": [],
      "source": [
        "X =\n",
        "Y ="
      ]
    },
    {
      "cell_type": "code",
      "execution_count": null,
      "id": "f099afd8",
      "metadata": {
        "id": "f099afd8"
      },
      "outputs": [],
      "source": [
        "answers['Q2'] = [theta0, theta1, theta2, mse]"
      ]
    },
    {
      "cell_type": "code",
      "execution_count": null,
      "id": "31e2f9e8",
      "metadata": {
        "id": "31e2f9e8"
      },
      "outputs": [],
      "source": [
        "assertFloatList(answers['Q2'], 4)"
      ]
    },
    {
      "cell_type": "code",
      "execution_count": null,
      "id": "1147c4f6",
      "metadata": {
        "id": "1147c4f6"
      },
      "outputs": [],
      "source": [
        "### Question 3"
      ]
    },
    {
      "cell_type": "code",
      "execution_count": null,
      "id": "78ef0f1e",
      "metadata": {
        "id": "78ef0f1e"
      },
      "outputs": [],
      "source": [
        "def feature(datum, deg):\n",
        "    # feature for a specific polynomial degree"
      ]
    },
    {
      "cell_type": "code",
      "execution_count": null,
      "id": "559faac4",
      "metadata": {
        "id": "559faac4"
      },
      "outputs": [],
      "source": [
        "answers['Q3'] = mses"
      ]
    },
    {
      "cell_type": "code",
      "execution_count": null,
      "id": "bbb5da71",
      "metadata": {
        "id": "bbb5da71"
      },
      "outputs": [],
      "source": [
        "assertFloatList(answers['Q3'], 5)# List of length 5"
      ]
    },
    {
      "cell_type": "code",
      "execution_count": null,
      "id": "dcbb8263",
      "metadata": {
        "id": "dcbb8263"
      },
      "outputs": [],
      "source": [
        "### Question 4"
      ]
    },
    {
      "cell_type": "code",
      "execution_count": null,
      "id": "e91bc048",
      "metadata": {
        "id": "e91bc048"
      },
      "outputs": [],
      "source": []
    },
    {
      "cell_type": "code",
      "execution_count": null,
      "id": "fdd505ff",
      "metadata": {
        "id": "fdd505ff"
      },
      "outputs": [],
      "source": [
        "answers['Q4'] = mses"
      ]
    },
    {
      "cell_type": "code",
      "execution_count": null,
      "id": "d2954061",
      "metadata": {
        "id": "d2954061"
      },
      "outputs": [],
      "source": [
        "assertFloatList(answers['Q4'], 5)"
      ]
    },
    {
      "cell_type": "code",
      "execution_count": null,
      "id": "2fa286a5",
      "metadata": {
        "id": "2fa286a5"
      },
      "outputs": [],
      "source": [
        "### Question 5"
      ]
    },
    {
      "cell_type": "code",
      "execution_count": null,
      "id": "81dcc36d",
      "metadata": {
        "id": "81dcc36d"
      },
      "outputs": [],
      "source": []
    },
    {
      "cell_type": "code",
      "execution_count": null,
      "id": "b3a2e9b9",
      "metadata": {
        "id": "b3a2e9b9"
      },
      "outputs": [],
      "source": [
        "answers['Q5'] = mae"
      ]
    },
    {
      "cell_type": "code",
      "execution_count": null,
      "id": "d71a47ed",
      "metadata": {
        "id": "d71a47ed"
      },
      "outputs": [],
      "source": [
        "assertFloat(answers['Q5'])"
      ]
    },
    {
      "cell_type": "code",
      "execution_count": null,
      "id": "cf84f30c",
      "metadata": {
        "id": "cf84f30c"
      },
      "outputs": [],
      "source": [
        "### Question 6"
      ]
    },
    {
      "cell_type": "code",
      "execution_count": null,
      "id": "19b5b795",
      "metadata": {
        "id": "19b5b795"
      },
      "outputs": [],
      "source": [
        "f = open(\"beer_50000.json\")\n",
        "dataset = []\n",
        "for l in f:\n",
        "    if 'user/gender' in l:\n",
        "        dataset.append(eval(l))"
      ]
    },
    {
      "cell_type": "code",
      "execution_count": null,
      "id": "299d4fee",
      "metadata": {
        "id": "299d4fee"
      },
      "outputs": [],
      "source": [
        "len(dataset)"
      ]
    },
    {
      "cell_type": "code",
      "execution_count": null,
      "id": "cf95bec0",
      "metadata": {
        "id": "cf95bec0"
      },
      "outputs": [],
      "source": [
        "X =\n",
        "y ="
      ]
    },
    {
      "cell_type": "code",
      "execution_count": null,
      "id": "e0ce9c0b",
      "metadata": {
        "id": "e0ce9c0b"
      },
      "outputs": [],
      "source": []
    },
    {
      "cell_type": "code",
      "execution_count": null,
      "id": "0c35d20a",
      "metadata": {
        "id": "0c35d20a"
      },
      "outputs": [],
      "source": [
        "answers['Q6'] = [TP, TN, FP, FN, BER]"
      ]
    },
    {
      "cell_type": "code",
      "execution_count": null,
      "id": "9b18991a",
      "metadata": {
        "id": "9b18991a"
      },
      "outputs": [],
      "source": [
        "assertFloatList(answers['Q6'], 5)"
      ]
    },
    {
      "cell_type": "code",
      "execution_count": null,
      "id": "f066f3d5",
      "metadata": {
        "id": "f066f3d5"
      },
      "outputs": [],
      "source": [
        "### Question 7"
      ]
    },
    {
      "cell_type": "code",
      "execution_count": null,
      "id": "d24c241f",
      "metadata": {
        "id": "d24c241f"
      },
      "outputs": [],
      "source": []
    },
    {
      "cell_type": "code",
      "execution_count": null,
      "id": "0622704c",
      "metadata": {
        "id": "0622704c"
      },
      "outputs": [],
      "source": [
        "answers[\"Q7\"] = [TP, TN, FP, FN, BER]"
      ]
    },
    {
      "cell_type": "code",
      "execution_count": null,
      "id": "efb03c92",
      "metadata": {
        "id": "efb03c92"
      },
      "outputs": [],
      "source": [
        "assertFloatList(answers['Q7'], 5)"
      ]
    },
    {
      "cell_type": "code",
      "execution_count": null,
      "id": "0e622c2b",
      "metadata": {
        "id": "0e622c2b"
      },
      "outputs": [],
      "source": [
        "### Question 8"
      ]
    },
    {
      "cell_type": "code",
      "execution_count": null,
      "id": "9b6bcea5",
      "metadata": {
        "id": "9b6bcea5"
      },
      "outputs": [],
      "source": []
    },
    {
      "cell_type": "code",
      "execution_count": null,
      "id": "764513e1",
      "metadata": {
        "id": "764513e1"
      },
      "outputs": [],
      "source": [
        "answers['Q8'] = precisionList"
      ]
    },
    {
      "cell_type": "code",
      "execution_count": null,
      "id": "b0d7d87a",
      "metadata": {
        "id": "b0d7d87a"
      },
      "outputs": [],
      "source": [
        "assertFloatList(answers['Q8'], 5) #List of five floats"
      ]
    },
    {
      "cell_type": "code",
      "execution_count": null,
      "id": "d557ab88",
      "metadata": {
        "id": "d557ab88"
      },
      "outputs": [],
      "source": [
        "f = open(\"answers_hw1.txt\", 'w') # Write your answers to a file\n",
        "f.write(str(answers) + '\\n')\n",
        "f.close()"
      ]
    },
    {
      "cell_type": "code",
      "execution_count": null,
      "id": "63b457fc",
      "metadata": {
        "id": "63b457fc"
      },
      "outputs": [],
      "source": []
    }
  ],
  "metadata": {
    "kernelspec": {
      "display_name": "Python 3 (ipykernel)",
      "language": "python",
      "name": "python3"
    },
    "language_info": {
      "codemirror_mode": {
        "name": "ipython",
        "version": 3
      },
      "file_extension": ".py",
      "mimetype": "text/x-python",
      "name": "python",
      "nbconvert_exporter": "python",
      "pygments_lexer": "ipython3",
      "version": "3.7.3"
    },
    "colab": {
      "provenance": []
    }
  },
  "nbformat": 4,
  "nbformat_minor": 5
}