{
  "cells": [
    {
      "cell_type": "code",
      "execution_count": null,
      "id": "d545425e",
      "metadata": {
        "id": "d545425e"
      },
      "outputs": [],
      "source": [
        "\n",
        "import json\n",
        "from matplotlib import pyplot as plt\n",
        "from collections import defaultdict\n",
        "from sklearn import linear_model\n",
        "import numpy\n",
        "import random\n",
        "import gzip\n",
        "import math"
      ]
    },
    {
      "cell_type": "code",
      "execution_count": null,
      "id": "d577aff3",
      "metadata": {
        "id": "d577aff3"
      },
      "outputs": [],
      "source": [
        "import warnings\n",
        "warnings.filterwarnings(\"ignore\")"
      ]
    },
    {
      "cell_type": "code",
      "execution_count": null,
      "id": "e74ac91e",
      "metadata": {
        "id": "e74ac91e"
      },
      "outputs": [],
      "source": [
        "def assertFloat(x): # Checks that an answer is a float\n",
        "    assert type(float(x)) == float\n",
        "\n",
        "def assertFloatList(items, N):\n",
        "    assert len(items) == N\n",
        "    assert [type(float(x)) for x in items] == [float]*N"
      ]
    },
    {
      "cell_type": "code",
      "execution_count": null,
      "id": "1a7911bf",
      "metadata": {
        "id": "1a7911bf"
      },
      "outputs": [],
      "source": [
        "f = gzip.open(\"young_adult_10000.json.gz\")\n",
        "dataset = []\n",
        "for l in f:\n",
        "    dataset.append(json.loads(l))"
      ]
    },
    {
      "cell_type": "code",
      "execution_count": null,
      "id": "85100ed3",
      "metadata": {
        "id": "85100ed3",
        "colab": {
          "base_uri": "https://localhost:8080/"
        },
        "outputId": "f725ff81-afe2-4ab4-8f03-3192a4029332"
      },
      "outputs": [
        {
          "output_type": "execute_result",
          "data": {
            "text/plain": [
              "10000"
            ]
          },
          "metadata": {},
          "execution_count": 6
        }
      ],
      "source": [
        "len(dataset)"
      ]
    },
    {
      "cell_type": "code",
      "execution_count": null,
      "id": "e716aa89",
      "metadata": {
        "id": "e716aa89"
      },
      "outputs": [],
      "source": [
        "answers = {} # Put your answers to each question in this dictionary"
      ]
    },
    {
      "cell_type": "code",
      "execution_count": null,
      "id": "cb2c286a",
      "metadata": {
        "id": "cb2c286a",
        "colab": {
          "base_uri": "https://localhost:8080/"
        },
        "outputId": "90da9565-b03a-4b88-8535-52f5038b9a55"
      },
      "outputs": [
        {
          "output_type": "execute_result",
          "data": {
            "text/plain": [
              "{'user_id': '8842281e1d1347389f2ab93d60773d4d',\n",
              " 'book_id': '2767052',\n",
              " 'review_id': '248c011811e945eca861b5c31a549291',\n",
              " 'rating': 5,\n",
              " 'review_text': \"I cracked and finally picked this up. Very enjoyable quick read - couldn't put it down - it was like crack. \\n I'm a bit bothered by the lack of backstory of how Panem and the Hunger Games come about. It is just kind of explained away in a few paragraphs and we are left to accept this very strange world where teenagers are pitted into an arena each year to kill each other? I was expecting it because I've seen Battle Royale, but I would have appreciated knowing more of the backstory of how the world could have come into such a odd state. \\n I suppose what makes a book like this interesting is thinking about the strategy of it all. The players are going to be statistically encouraged to band together because they will last longer that way, but by definition of course any partnership will be broken, and the drama of how that unfolds is always interesting and full of friendships broken and betrayal. Each character approached the game in their own way. Some banded together in larger coalitions, some were loners initially and banded together later. And some were just loners, like Foxface. A lot depended on your survival skill: could you find food and water on your own? Self-dependence is highly valued - and of course our hero was strong there. \\n All in all, a fun read, but I feel kind of dirty for having read it.\",\n",
              " 'date_added': 'Wed Jan 13 13:38:25 -0800 2010',\n",
              " 'date_updated': 'Wed Mar 22 11:46:36 -0700 2017',\n",
              " 'read_at': 'Sun Mar 25 00:00:00 -0700 2012',\n",
              " 'started_at': 'Fri Mar 23 00:00:00 -0700 2012',\n",
              " 'n_votes': 24,\n",
              " 'n_comments': 25}"
            ]
          },
          "metadata": {},
          "execution_count": 7
        }
      ],
      "source": [
        "dataset[0]"
      ]
    },
    {
      "cell_type": "markdown",
      "source": [
        "# Question 1"
      ],
      "metadata": {
        "id": "qQVmC85hdASF"
      },
      "id": "qQVmC85hdASF"
    },
    {
      "cell_type": "code",
      "execution_count": null,
      "id": "fea5f8f2",
      "metadata": {
        "id": "fea5f8f2"
      },
      "outputs": [],
      "source": [
        "# Vectors of the features,\n",
        "#  -- count of the \"!\" character.\n",
        "def feature(datum):\n",
        "  # review_text from datum\n",
        "  text = datum['review_text']\n",
        "\n",
        "  # count \"!\"\n",
        "  count = text.count('!')\n",
        "\n",
        "  # return feature vector with first column is 1\n",
        "  return [1, count]"
      ]
    },
    {
      "cell_type": "code",
      "execution_count": null,
      "id": "8f00dea9",
      "metadata": {
        "id": "8f00dea9"
      },
      "outputs": [],
      "source": [
        "# Matrix of the features\n",
        "X = numpy.array([feature(datum = data) for data in dataset])\n",
        "\n",
        "# Vector of the outputs\n",
        "Y = numpy.array([data['rating'] for data in dataset])"
      ]
    },
    {
      "cell_type": "markdown",
      "source": [
        "$$\n",
        "\\theta = (X^T X)^{-1} X^T y\n",
        "$$\n",
        "\n"
      ],
      "metadata": {
        "id": "ieLPOAYgebIB"
      },
      "id": "ieLPOAYgebIB"
    },
    {
      "cell_type": "code",
      "source": [
        "# Calculate Thetas, with Psuedo Inverse of X. shape (,2)\n",
        "theta = numpy.linalg.inv(X.T @ X) @ X.T @ Y"
      ],
      "metadata": {
        "id": "sxIEOytbbL9x"
      },
      "id": "sxIEOytbbL9x",
      "execution_count": null,
      "outputs": []
    },
    {
      "cell_type": "markdown",
      "source": [
        "$$\\text{MSE}: \\frac{1}{N} \\sum_{i=1}^{N} \\left( X_i \\cdot \\theta - y_i \\right)^2$$, $$X\\theta = y$$\n",
        "\n"
      ],
      "metadata": {
        "id": "zGx_iYJHgpfj"
      },
      "id": "zGx_iYJHgpfj"
    },
    {
      "cell_type": "code",
      "source": [
        "# Calculate MSE\n",
        "mse = ((Y - X @ theta) ** 2).mean()"
      ],
      "metadata": {
        "id": "SVU71OQAf9MY"
      },
      "id": "SVU71OQAf9MY",
      "execution_count": null,
      "outputs": []
    },
    {
      "cell_type": "code",
      "execution_count": null,
      "id": "51581a4f",
      "metadata": {
        "id": "51581a4f",
        "colab": {
          "base_uri": "https://localhost:8080/"
        },
        "outputId": "6468c079-d896-4e63-f3d3-6bf5d14ddece"
      },
      "outputs": [
        {
          "output_type": "stream",
          "name": "stdout",
          "text": [
            "{'Q1': [3.6885330408320183, 0.07109019019954144, 1.5231747404538287]}\n"
          ]
        }
      ],
      "source": [
        "answers['Q1'] = [theta[0], theta[1], mse]\n",
        "print(answers)"
      ]
    },
    {
      "cell_type": "code",
      "execution_count": null,
      "id": "525fd954",
      "metadata": {
        "id": "525fd954"
      },
      "outputs": [],
      "source": [
        "assertFloatList(answers['Q1'], 3) # Check the format of your answer (three floats)"
      ]
    },
    {
      "cell_type": "markdown",
      "source": [
        "# Question 2"
      ],
      "metadata": {
        "id": "be9QglPioFMb"
      },
      "id": "be9QglPioFMb"
    },
    {
      "cell_type": "code",
      "execution_count": null,
      "id": "982ea2f5",
      "metadata": {
        "id": "982ea2f5"
      },
      "outputs": [],
      "source": [
        "# Vectors of the features,\n",
        "#  -- text length\n",
        "#  -- count of the \"!\" character.\n",
        "def feature(datum):\n",
        "  # review_text from datum\n",
        "  text = datum['review_text']\n",
        "\n",
        "  #get text length\n",
        "  length = len(text)\n",
        "\n",
        "  # count \"!\"\n",
        "  count = text.count('!')\n",
        "\n",
        "  # return feature vector with first columns are [1, length, count]\n",
        "  return [1, length, count]"
      ]
    },
    {
      "cell_type": "code",
      "execution_count": null,
      "id": "cda70702",
      "metadata": {
        "id": "cda70702"
      },
      "outputs": [],
      "source": [
        "# Matrix of Feature\n",
        "X = numpy.array([feature(datum = data) for data in dataset])\n",
        "\n",
        "# Vector of Outputs\n",
        "Y = numpy.array([data['rating'] for data in dataset])"
      ]
    },
    {
      "cell_type": "code",
      "source": [
        "# calculate thetas shape (,3)\n",
        "theta = numpy.linalg.inv(X.T @ X) @ X.T @ Y"
      ],
      "metadata": {
        "id": "1sOCaje-pXhD"
      },
      "id": "1sOCaje-pXhD",
      "execution_count": null,
      "outputs": []
    },
    {
      "cell_type": "code",
      "source": [
        "# calculate MSE\n",
        "mse = ((Y - X @ theta) ** 2).mean()"
      ],
      "metadata": {
        "id": "Hhsg0v1Tpgyl"
      },
      "id": "Hhsg0v1Tpgyl",
      "execution_count": null,
      "outputs": []
    },
    {
      "cell_type": "code",
      "execution_count": null,
      "id": "f099afd8",
      "metadata": {
        "id": "f099afd8"
      },
      "outputs": [],
      "source": [
        "answers['Q2'] = [theta[0], theta[1], theta[2], mse]"
      ]
    },
    {
      "cell_type": "code",
      "execution_count": null,
      "id": "31e2f9e8",
      "metadata": {
        "id": "31e2f9e8"
      },
      "outputs": [],
      "source": [
        "assertFloatList(answers['Q2'], 4)"
      ]
    },
    {
      "cell_type": "markdown",
      "source": [
        "# Question 3"
      ],
      "metadata": {
        "id": "2zELB_O0wX_1"
      },
      "id": "2zELB_O0wX_1"
    },
    {
      "cell_type": "code",
      "execution_count": null,
      "id": "78ef0f1e",
      "metadata": {
        "id": "78ef0f1e"
      },
      "outputs": [],
      "source": [
        "# Vectors of the features\n",
        "# feature for a specific polynomial degree\n",
        "def feature(datum, deg):\n",
        "  # review_text from datum\n",
        "  text = datum['review_text']\n",
        "\n",
        "  # count \"!\"\n",
        "  count = text.count('!')\n",
        "\n",
        "  # initialize vector\n",
        "  vector = [1]\n",
        "\n",
        "  # append degrees\n",
        "  for i in range(1, deg + 1):\n",
        "    vector.append(count ** i)\n",
        "\n",
        "  return vector"
      ]
    },
    {
      "cell_type": "code",
      "source": [
        "mses = []"
      ],
      "metadata": {
        "id": "_MJwXs6qyYCD"
      },
      "id": "_MJwXs6qyYCD",
      "execution_count": null,
      "outputs": []
    },
    {
      "cell_type": "code",
      "source": [
        "# Fit polynomials from degree one to five\n",
        "degrees = 5\n",
        "for degree in range(1, degrees+1):\n",
        "  # Matrix of Feature\n",
        "  X = numpy.array([feature(datum = data,deg = degree) for data in dataset])\n",
        "\n",
        "  # Vector of Outputs\n",
        "  Y = numpy.array([data['rating'] for data in dataset])\n",
        "\n",
        "  # calculate thetas shape (,degree+1)\n",
        "  theta = numpy.linalg.inv(X.T @ X) @ X.T @ Y\n",
        "\n",
        "  # calculate MSE\n",
        "  mse = ((Y - X @ theta) ** 2).mean()\n",
        "\n",
        "  # append\n",
        "  mses.append(mse)"
      ],
      "metadata": {
        "id": "US0v3Uxtylab"
      },
      "id": "US0v3Uxtylab",
      "execution_count": null,
      "outputs": []
    },
    {
      "cell_type": "code",
      "execution_count": null,
      "id": "559faac4",
      "metadata": {
        "id": "559faac4"
      },
      "outputs": [],
      "source": [
        "answers['Q3'] = mses"
      ]
    },
    {
      "cell_type": "code",
      "execution_count": null,
      "id": "bbb5da71",
      "metadata": {
        "id": "bbb5da71"
      },
      "outputs": [],
      "source": [
        "assertFloatList(answers['Q3'], 5)# List of length 5"
      ]
    },
    {
      "cell_type": "markdown",
      "source": [
        "# Questions 4"
      ],
      "metadata": {
        "id": "B-Tug8i_wbyb"
      },
      "id": "B-Tug8i_wbyb"
    },
    {
      "cell_type": "markdown",
      "source": [
        "This question need functions in the questions 3"
      ],
      "metadata": {
        "id": "oeuEJAnQ11TY"
      },
      "id": "oeuEJAnQ11TY"
    },
    {
      "cell_type": "code",
      "source": [
        "# split dataset into training and test withe 1:1 ratio\n",
        "random.shuffle(dataset)\n",
        "dataset_train = dataset[:len(dataset)//2]\n",
        "dataset_test = dataset[len(dataset)//2:]"
      ],
      "metadata": {
        "id": "aHiVBnIG16EL"
      },
      "id": "aHiVBnIG16EL",
      "execution_count": null,
      "outputs": []
    },
    {
      "cell_type": "code",
      "source": [
        "mses_test = []"
      ],
      "metadata": {
        "id": "dTLwqATb27I3"
      },
      "id": "dTLwqATb27I3",
      "execution_count": null,
      "outputs": []
    },
    {
      "cell_type": "code",
      "source": [
        "# Fit polynomials from degree one to five\n",
        "# train with dataset_train, output mse of dataset_test\n",
        "degrees = 5\n",
        "for degree in range(1, degrees+1):\n",
        "  # Matrix of Feature\n",
        "  X_train = numpy.array([feature(datum = data,deg = degree) for data in dataset_train])\n",
        "  X_test = numpy.array([feature(datum = data,deg = degree) for data in dataset_test])\n",
        "\n",
        "  # Vector of Outputs\n",
        "  Y_train = numpy.array([data['rating'] for data in dataset_train])\n",
        "  Y_test = numpy.array([data['rating'] for data in dataset_test])\n",
        "\n",
        "  # calculate thetas shape (,degree+1) (or Fit)\n",
        "  theta = numpy.linalg.inv(X_train.T @ X_train) @ X_train.T @ Y_train\n",
        "\n",
        "  # calculate MSE for test set\n",
        "  mse_test = ((Y_test - X_test @ theta) ** 2).mean()\n",
        "\n",
        "  # append\n",
        "  mses_test.append(mse_test)"
      ],
      "metadata": {
        "id": "exQ-XYok3Gjt"
      },
      "id": "exQ-XYok3Gjt",
      "execution_count": null,
      "outputs": []
    },
    {
      "cell_type": "code",
      "execution_count": null,
      "id": "fdd505ff",
      "metadata": {
        "id": "fdd505ff",
        "colab": {
          "base_uri": "https://localhost:8080/"
        },
        "outputId": "401f63b1-6c97-4dc4-ebb3-26b0c57fce4b"
      },
      "outputs": [
        {
          "output_type": "execute_result",
          "data": {
            "text/plain": [
              "[1.4938618031861384,\n",
              " 1.4811373987988723,\n",
              " 1.4766152128575782,\n",
              " 1.4683987737840865,\n",
              " 1.4673281360474502]"
            ]
          },
          "metadata": {},
          "execution_count": 109
        }
      ],
      "source": [
        "answers['Q4'] = mses_test\n",
        "answers['Q4']"
      ]
    },
    {
      "cell_type": "code",
      "execution_count": null,
      "id": "d2954061",
      "metadata": {
        "id": "d2954061"
      },
      "outputs": [],
      "source": [
        "assertFloatList(answers['Q4'], 5)"
      ]
    },
    {
      "cell_type": "markdown",
      "source": [
        "# Question 5"
      ],
      "metadata": {
        "id": "RTwsZdOXwen1"
      },
      "id": "RTwsZdOXwen1"
    },
    {
      "cell_type": "code",
      "source": [
        "# Vectors of the features\n",
        "# trivial\n",
        "def feature_trivial():\n",
        "  # initialize vector\n",
        "  vector = [1]\n",
        "\n",
        "  return vector"
      ],
      "metadata": {
        "id": "Qq6IFQl97sF3"
      },
      "id": "Qq6IFQl97sF3",
      "execution_count": null,
      "outputs": []
    },
    {
      "cell_type": "code",
      "source": [
        "# Matrix of feature\n",
        "X = numpy.array([feature_trivial() for data in dataset])\n",
        "\n",
        "# Vector of outputs\n",
        "Y = numpy.array([data['rating'] for data in dataset])"
      ],
      "metadata": {
        "id": "sByCbQRc8nOW"
      },
      "id": "sByCbQRc8nOW",
      "execution_count": null,
      "outputs": []
    },
    {
      "cell_type": "code",
      "source": [
        "# calculate theta\n",
        "theta = numpy.linalg.inv(X.T @ X) @ X.T @ Y"
      ],
      "metadata": {
        "id": "O_46KSch9UZF"
      },
      "id": "O_46KSch9UZF",
      "execution_count": null,
      "outputs": []
    },
    {
      "cell_type": "code",
      "source": [
        "# calculate mae\n",
        "mae = abs(Y - X @ theta).mean()"
      ],
      "metadata": {
        "id": "FX6HzOxY9Zzp"
      },
      "id": "FX6HzOxY9Zzp",
      "execution_count": null,
      "outputs": []
    },
    {
      "cell_type": "code",
      "execution_count": null,
      "id": "b3a2e9b9",
      "metadata": {
        "id": "b3a2e9b9"
      },
      "outputs": [],
      "source": [
        "answers['Q5'] = mae"
      ]
    },
    {
      "cell_type": "code",
      "execution_count": null,
      "id": "d71a47ed",
      "metadata": {
        "id": "d71a47ed"
      },
      "outputs": [],
      "source": [
        "assertFloat(answers['Q5'])"
      ]
    },
    {
      "cell_type": "markdown",
      "source": [
        "# Question 6"
      ],
      "metadata": {
        "id": "xP2K0p6Qwgtx"
      },
      "id": "xP2K0p6Qwgtx"
    },
    {
      "cell_type": "code",
      "execution_count": null,
      "id": "19b5b795",
      "metadata": {
        "id": "19b5b795"
      },
      "outputs": [],
      "source": [
        "f = open(\"beer_50000.json\")\n",
        "dataset = []\n",
        "for l in f:\n",
        "    if 'user/gender' in l:\n",
        "        dataset.append(eval(l))"
      ]
    },
    {
      "cell_type": "code",
      "execution_count": null,
      "id": "299d4fee",
      "metadata": {
        "id": "299d4fee",
        "colab": {
          "base_uri": "https://localhost:8080/"
        },
        "outputId": "27254ce4-6b5d-40d6-de84-df2b8113ae59"
      },
      "outputs": [
        {
          "output_type": "execute_result",
          "data": {
            "text/plain": [
              "20403"
            ]
          },
          "metadata": {},
          "execution_count": 154
        }
      ],
      "source": [
        "len(dataset)"
      ]
    },
    {
      "cell_type": "code",
      "source": [
        "dataset[0]"
      ],
      "metadata": {
        "id": "EJoMiouK-ikQ",
        "outputId": "175d5d2b-f728-4ea1-b8b8-7d291d9588a3",
        "colab": {
          "base_uri": "https://localhost:8080/"
        }
      },
      "id": "EJoMiouK-ikQ",
      "execution_count": null,
      "outputs": [
        {
          "output_type": "execute_result",
          "data": {
            "text/plain": [
              "{'review/appearance': 4.0,\n",
              " 'beer/style': 'American Double / Imperial IPA',\n",
              " 'review/palate': 4.0,\n",
              " 'review/taste': 4.5,\n",
              " 'beer/name': 'Cauldron DIPA',\n",
              " 'review/timeUnix': 1293735206,\n",
              " 'user/gender': 'Male',\n",
              " 'user/birthdayRaw': 'Jun 16, 1901',\n",
              " 'beer/ABV': 7.7,\n",
              " 'beer/beerId': '64883',\n",
              " 'user/birthdayUnix': -2163081600,\n",
              " 'beer/brewerId': '1075',\n",
              " 'review/timeStruct': {'isdst': 0,\n",
              "  'mday': 30,\n",
              "  'hour': 18,\n",
              "  'min': 53,\n",
              "  'sec': 26,\n",
              "  'mon': 12,\n",
              "  'year': 2010,\n",
              "  'yday': 364,\n",
              "  'wday': 3},\n",
              " 'user/ageInSeconds': 3581417047,\n",
              " 'review/overall': 4.0,\n",
              " 'review/text': \"According to the website, the style for the Caldera Cauldron changes every year. The current release is a DIPA, which frankly is the only cauldron I'm familiar with (it was an IPA/DIPA the last time I ordered a cauldron at the horsebrass several years back). In any event... at the Horse Brass yesterday.\\t\\tThe beer pours an orange copper color with good head retention and lacing. The nose is all hoppy IPA goodness, showcasing a huge aroma of dry citrus, pine and sandlewood. The flavor profile replicates the nose pretty closely in this West Coast all the way DIPA. This DIPA is not for the faint of heart and is a bit much even for a hophead like myslf. The finish is quite dry and hoppy, and there's barely enough sweet malt to balance and hold up the avalanche of hoppy bitterness in this beer. Mouthfeel is actually fairly light, with a long, persistentely bitter finish. Drinkability is good, with the alcohol barely noticeable in this well crafted beer. Still, this beer is so hugely hoppy/bitter, it's really hard for me to imagine ordering more than a single glass. Regardless, this is a very impressive beer from the folks at Caldera.\",\n",
              " 'user/profileName': 'johnmichaelsen',\n",
              " 'review/aroma': 4.5}"
            ]
          },
          "metadata": {},
          "execution_count": 155
        }
      ]
    },
    {
      "cell_type": "code",
      "source": [
        "# vector of features\n",
        "def feature(datum):\n",
        "  # review_text from datum\n",
        "  text = datum['review/text']\n",
        "\n",
        "  # count \"!\"\n",
        "  count = text.count('!')\n",
        "\n",
        "  # return feature vector with first column is 1\n",
        "  return [1, count]"
      ],
      "metadata": {
        "id": "l9MMjYX9DRXf"
      },
      "id": "l9MMjYX9DRXf",
      "execution_count": null,
      "outputs": []
    },
    {
      "cell_type": "code",
      "execution_count": null,
      "id": "cf95bec0",
      "metadata": {
        "id": "cf95bec0"
      },
      "outputs": [],
      "source": [
        "# Matrix of features\n",
        "X = numpy.array([feature(datum = data) for data in dataset])\n",
        "\n",
        "# Vector of ouputs, use binary encoding but use numerical value 0 and 1, femal 0 male 1\n",
        "Y = numpy.array([(1 if data['user/gender'] == 'Female' else 0) for data in dataset])"
      ]
    },
    {
      "cell_type": "code",
      "source": [
        "# Fit a logistic regressor\n",
        "# use a logistic regression library with default parameters, e.g. linear model.LogisticRegression() from sklearn\n",
        "model = linear_model.LogisticRegression()\n",
        "model.fit(X,Y)"
      ],
      "metadata": {
        "id": "Gh8N9iylLtwu",
        "outputId": "3d242e18-fb83-4495-9453-d9dfb2a19021",
        "colab": {
          "base_uri": "https://localhost:8080/",
          "height": 80
        }
      },
      "id": "Gh8N9iylLtwu",
      "execution_count": null,
      "outputs": [
        {
          "output_type": "execute_result",
          "data": {
            "text/plain": [
              "LogisticRegression()"
            ],
            "text/html": [
              "<style>#sk-container-id-2 {\n",
              "  /* Definition of color scheme common for light and dark mode */\n",
              "  --sklearn-color-text: black;\n",
              "  --sklearn-color-line: gray;\n",
              "  /* Definition of color scheme for unfitted estimators */\n",
              "  --sklearn-color-unfitted-level-0: #fff5e6;\n",
              "  --sklearn-color-unfitted-level-1: #f6e4d2;\n",
              "  --sklearn-color-unfitted-level-2: #ffe0b3;\n",
              "  --sklearn-color-unfitted-level-3: chocolate;\n",
              "  /* Definition of color scheme for fitted estimators */\n",
              "  --sklearn-color-fitted-level-0: #f0f8ff;\n",
              "  --sklearn-color-fitted-level-1: #d4ebff;\n",
              "  --sklearn-color-fitted-level-2: #b3dbfd;\n",
              "  --sklearn-color-fitted-level-3: cornflowerblue;\n",
              "\n",
              "  /* Specific color for light theme */\n",
              "  --sklearn-color-text-on-default-background: var(--sg-text-color, var(--theme-code-foreground, var(--jp-content-font-color1, black)));\n",
              "  --sklearn-color-background: var(--sg-background-color, var(--theme-background, var(--jp-layout-color0, white)));\n",
              "  --sklearn-color-border-box: var(--sg-text-color, var(--theme-code-foreground, var(--jp-content-font-color1, black)));\n",
              "  --sklearn-color-icon: #696969;\n",
              "\n",
              "  @media (prefers-color-scheme: dark) {\n",
              "    /* Redefinition of color scheme for dark theme */\n",
              "    --sklearn-color-text-on-default-background: var(--sg-text-color, var(--theme-code-foreground, var(--jp-content-font-color1, white)));\n",
              "    --sklearn-color-background: var(--sg-background-color, var(--theme-background, var(--jp-layout-color0, #111)));\n",
              "    --sklearn-color-border-box: var(--sg-text-color, var(--theme-code-foreground, var(--jp-content-font-color1, white)));\n",
              "    --sklearn-color-icon: #878787;\n",
              "  }\n",
              "}\n",
              "\n",
              "#sk-container-id-2 {\n",
              "  color: var(--sklearn-color-text);\n",
              "}\n",
              "\n",
              "#sk-container-id-2 pre {\n",
              "  padding: 0;\n",
              "}\n",
              "\n",
              "#sk-container-id-2 input.sk-hidden--visually {\n",
              "  border: 0;\n",
              "  clip: rect(1px 1px 1px 1px);\n",
              "  clip: rect(1px, 1px, 1px, 1px);\n",
              "  height: 1px;\n",
              "  margin: -1px;\n",
              "  overflow: hidden;\n",
              "  padding: 0;\n",
              "  position: absolute;\n",
              "  width: 1px;\n",
              "}\n",
              "\n",
              "#sk-container-id-2 div.sk-dashed-wrapped {\n",
              "  border: 1px dashed var(--sklearn-color-line);\n",
              "  margin: 0 0.4em 0.5em 0.4em;\n",
              "  box-sizing: border-box;\n",
              "  padding-bottom: 0.4em;\n",
              "  background-color: var(--sklearn-color-background);\n",
              "}\n",
              "\n",
              "#sk-container-id-2 div.sk-container {\n",
              "  /* jupyter's `normalize.less` sets `[hidden] { display: none; }`\n",
              "     but bootstrap.min.css set `[hidden] { display: none !important; }`\n",
              "     so we also need the `!important` here to be able to override the\n",
              "     default hidden behavior on the sphinx rendered scikit-learn.org.\n",
              "     See: https://github.com/scikit-learn/scikit-learn/issues/21755 */\n",
              "  display: inline-block !important;\n",
              "  position: relative;\n",
              "}\n",
              "\n",
              "#sk-container-id-2 div.sk-text-repr-fallback {\n",
              "  display: none;\n",
              "}\n",
              "\n",
              "div.sk-parallel-item,\n",
              "div.sk-serial,\n",
              "div.sk-item {\n",
              "  /* draw centered vertical line to link estimators */\n",
              "  background-image: linear-gradient(var(--sklearn-color-text-on-default-background), var(--sklearn-color-text-on-default-background));\n",
              "  background-size: 2px 100%;\n",
              "  background-repeat: no-repeat;\n",
              "  background-position: center center;\n",
              "}\n",
              "\n",
              "/* Parallel-specific style estimator block */\n",
              "\n",
              "#sk-container-id-2 div.sk-parallel-item::after {\n",
              "  content: \"\";\n",
              "  width: 100%;\n",
              "  border-bottom: 2px solid var(--sklearn-color-text-on-default-background);\n",
              "  flex-grow: 1;\n",
              "}\n",
              "\n",
              "#sk-container-id-2 div.sk-parallel {\n",
              "  display: flex;\n",
              "  align-items: stretch;\n",
              "  justify-content: center;\n",
              "  background-color: var(--sklearn-color-background);\n",
              "  position: relative;\n",
              "}\n",
              "\n",
              "#sk-container-id-2 div.sk-parallel-item {\n",
              "  display: flex;\n",
              "  flex-direction: column;\n",
              "}\n",
              "\n",
              "#sk-container-id-2 div.sk-parallel-item:first-child::after {\n",
              "  align-self: flex-end;\n",
              "  width: 50%;\n",
              "}\n",
              "\n",
              "#sk-container-id-2 div.sk-parallel-item:last-child::after {\n",
              "  align-self: flex-start;\n",
              "  width: 50%;\n",
              "}\n",
              "\n",
              "#sk-container-id-2 div.sk-parallel-item:only-child::after {\n",
              "  width: 0;\n",
              "}\n",
              "\n",
              "/* Serial-specific style estimator block */\n",
              "\n",
              "#sk-container-id-2 div.sk-serial {\n",
              "  display: flex;\n",
              "  flex-direction: column;\n",
              "  align-items: center;\n",
              "  background-color: var(--sklearn-color-background);\n",
              "  padding-right: 1em;\n",
              "  padding-left: 1em;\n",
              "}\n",
              "\n",
              "\n",
              "/* Toggleable style: style used for estimator/Pipeline/ColumnTransformer box that is\n",
              "clickable and can be expanded/collapsed.\n",
              "- Pipeline and ColumnTransformer use this feature and define the default style\n",
              "- Estimators will overwrite some part of the style using the `sk-estimator` class\n",
              "*/\n",
              "\n",
              "/* Pipeline and ColumnTransformer style (default) */\n",
              "\n",
              "#sk-container-id-2 div.sk-toggleable {\n",
              "  /* Default theme specific background. It is overwritten whether we have a\n",
              "  specific estimator or a Pipeline/ColumnTransformer */\n",
              "  background-color: var(--sklearn-color-background);\n",
              "}\n",
              "\n",
              "/* Toggleable label */\n",
              "#sk-container-id-2 label.sk-toggleable__label {\n",
              "  cursor: pointer;\n",
              "  display: block;\n",
              "  width: 100%;\n",
              "  margin-bottom: 0;\n",
              "  padding: 0.5em;\n",
              "  box-sizing: border-box;\n",
              "  text-align: center;\n",
              "}\n",
              "\n",
              "#sk-container-id-2 label.sk-toggleable__label-arrow:before {\n",
              "  /* Arrow on the left of the label */\n",
              "  content: \"▸\";\n",
              "  float: left;\n",
              "  margin-right: 0.25em;\n",
              "  color: var(--sklearn-color-icon);\n",
              "}\n",
              "\n",
              "#sk-container-id-2 label.sk-toggleable__label-arrow:hover:before {\n",
              "  color: var(--sklearn-color-text);\n",
              "}\n",
              "\n",
              "/* Toggleable content - dropdown */\n",
              "\n",
              "#sk-container-id-2 div.sk-toggleable__content {\n",
              "  max-height: 0;\n",
              "  max-width: 0;\n",
              "  overflow: hidden;\n",
              "  text-align: left;\n",
              "  /* unfitted */\n",
              "  background-color: var(--sklearn-color-unfitted-level-0);\n",
              "}\n",
              "\n",
              "#sk-container-id-2 div.sk-toggleable__content.fitted {\n",
              "  /* fitted */\n",
              "  background-color: var(--sklearn-color-fitted-level-0);\n",
              "}\n",
              "\n",
              "#sk-container-id-2 div.sk-toggleable__content pre {\n",
              "  margin: 0.2em;\n",
              "  border-radius: 0.25em;\n",
              "  color: var(--sklearn-color-text);\n",
              "  /* unfitted */\n",
              "  background-color: var(--sklearn-color-unfitted-level-0);\n",
              "}\n",
              "\n",
              "#sk-container-id-2 div.sk-toggleable__content.fitted pre {\n",
              "  /* unfitted */\n",
              "  background-color: var(--sklearn-color-fitted-level-0);\n",
              "}\n",
              "\n",
              "#sk-container-id-2 input.sk-toggleable__control:checked~div.sk-toggleable__content {\n",
              "  /* Expand drop-down */\n",
              "  max-height: 200px;\n",
              "  max-width: 100%;\n",
              "  overflow: auto;\n",
              "}\n",
              "\n",
              "#sk-container-id-2 input.sk-toggleable__control:checked~label.sk-toggleable__label-arrow:before {\n",
              "  content: \"▾\";\n",
              "}\n",
              "\n",
              "/* Pipeline/ColumnTransformer-specific style */\n",
              "\n",
              "#sk-container-id-2 div.sk-label input.sk-toggleable__control:checked~label.sk-toggleable__label {\n",
              "  color: var(--sklearn-color-text);\n",
              "  background-color: var(--sklearn-color-unfitted-level-2);\n",
              "}\n",
              "\n",
              "#sk-container-id-2 div.sk-label.fitted input.sk-toggleable__control:checked~label.sk-toggleable__label {\n",
              "  background-color: var(--sklearn-color-fitted-level-2);\n",
              "}\n",
              "\n",
              "/* Estimator-specific style */\n",
              "\n",
              "/* Colorize estimator box */\n",
              "#sk-container-id-2 div.sk-estimator input.sk-toggleable__control:checked~label.sk-toggleable__label {\n",
              "  /* unfitted */\n",
              "  background-color: var(--sklearn-color-unfitted-level-2);\n",
              "}\n",
              "\n",
              "#sk-container-id-2 div.sk-estimator.fitted input.sk-toggleable__control:checked~label.sk-toggleable__label {\n",
              "  /* fitted */\n",
              "  background-color: var(--sklearn-color-fitted-level-2);\n",
              "}\n",
              "\n",
              "#sk-container-id-2 div.sk-label label.sk-toggleable__label,\n",
              "#sk-container-id-2 div.sk-label label {\n",
              "  /* The background is the default theme color */\n",
              "  color: var(--sklearn-color-text-on-default-background);\n",
              "}\n",
              "\n",
              "/* On hover, darken the color of the background */\n",
              "#sk-container-id-2 div.sk-label:hover label.sk-toggleable__label {\n",
              "  color: var(--sklearn-color-text);\n",
              "  background-color: var(--sklearn-color-unfitted-level-2);\n",
              "}\n",
              "\n",
              "/* Label box, darken color on hover, fitted */\n",
              "#sk-container-id-2 div.sk-label.fitted:hover label.sk-toggleable__label.fitted {\n",
              "  color: var(--sklearn-color-text);\n",
              "  background-color: var(--sklearn-color-fitted-level-2);\n",
              "}\n",
              "\n",
              "/* Estimator label */\n",
              "\n",
              "#sk-container-id-2 div.sk-label label {\n",
              "  font-family: monospace;\n",
              "  font-weight: bold;\n",
              "  display: inline-block;\n",
              "  line-height: 1.2em;\n",
              "}\n",
              "\n",
              "#sk-container-id-2 div.sk-label-container {\n",
              "  text-align: center;\n",
              "}\n",
              "\n",
              "/* Estimator-specific */\n",
              "#sk-container-id-2 div.sk-estimator {\n",
              "  font-family: monospace;\n",
              "  border: 1px dotted var(--sklearn-color-border-box);\n",
              "  border-radius: 0.25em;\n",
              "  box-sizing: border-box;\n",
              "  margin-bottom: 0.5em;\n",
              "  /* unfitted */\n",
              "  background-color: var(--sklearn-color-unfitted-level-0);\n",
              "}\n",
              "\n",
              "#sk-container-id-2 div.sk-estimator.fitted {\n",
              "  /* fitted */\n",
              "  background-color: var(--sklearn-color-fitted-level-0);\n",
              "}\n",
              "\n",
              "/* on hover */\n",
              "#sk-container-id-2 div.sk-estimator:hover {\n",
              "  /* unfitted */\n",
              "  background-color: var(--sklearn-color-unfitted-level-2);\n",
              "}\n",
              "\n",
              "#sk-container-id-2 div.sk-estimator.fitted:hover {\n",
              "  /* fitted */\n",
              "  background-color: var(--sklearn-color-fitted-level-2);\n",
              "}\n",
              "\n",
              "/* Specification for estimator info (e.g. \"i\" and \"?\") */\n",
              "\n",
              "/* Common style for \"i\" and \"?\" */\n",
              "\n",
              ".sk-estimator-doc-link,\n",
              "a:link.sk-estimator-doc-link,\n",
              "a:visited.sk-estimator-doc-link {\n",
              "  float: right;\n",
              "  font-size: smaller;\n",
              "  line-height: 1em;\n",
              "  font-family: monospace;\n",
              "  background-color: var(--sklearn-color-background);\n",
              "  border-radius: 1em;\n",
              "  height: 1em;\n",
              "  width: 1em;\n",
              "  text-decoration: none !important;\n",
              "  margin-left: 1ex;\n",
              "  /* unfitted */\n",
              "  border: var(--sklearn-color-unfitted-level-1) 1pt solid;\n",
              "  color: var(--sklearn-color-unfitted-level-1);\n",
              "}\n",
              "\n",
              ".sk-estimator-doc-link.fitted,\n",
              "a:link.sk-estimator-doc-link.fitted,\n",
              "a:visited.sk-estimator-doc-link.fitted {\n",
              "  /* fitted */\n",
              "  border: var(--sklearn-color-fitted-level-1) 1pt solid;\n",
              "  color: var(--sklearn-color-fitted-level-1);\n",
              "}\n",
              "\n",
              "/* On hover */\n",
              "div.sk-estimator:hover .sk-estimator-doc-link:hover,\n",
              ".sk-estimator-doc-link:hover,\n",
              "div.sk-label-container:hover .sk-estimator-doc-link:hover,\n",
              ".sk-estimator-doc-link:hover {\n",
              "  /* unfitted */\n",
              "  background-color: var(--sklearn-color-unfitted-level-3);\n",
              "  color: var(--sklearn-color-background);\n",
              "  text-decoration: none;\n",
              "}\n",
              "\n",
              "div.sk-estimator.fitted:hover .sk-estimator-doc-link.fitted:hover,\n",
              ".sk-estimator-doc-link.fitted:hover,\n",
              "div.sk-label-container:hover .sk-estimator-doc-link.fitted:hover,\n",
              ".sk-estimator-doc-link.fitted:hover {\n",
              "  /* fitted */\n",
              "  background-color: var(--sklearn-color-fitted-level-3);\n",
              "  color: var(--sklearn-color-background);\n",
              "  text-decoration: none;\n",
              "}\n",
              "\n",
              "/* Span, style for the box shown on hovering the info icon */\n",
              ".sk-estimator-doc-link span {\n",
              "  display: none;\n",
              "  z-index: 9999;\n",
              "  position: relative;\n",
              "  font-weight: normal;\n",
              "  right: .2ex;\n",
              "  padding: .5ex;\n",
              "  margin: .5ex;\n",
              "  width: min-content;\n",
              "  min-width: 20ex;\n",
              "  max-width: 50ex;\n",
              "  color: var(--sklearn-color-text);\n",
              "  box-shadow: 2pt 2pt 4pt #999;\n",
              "  /* unfitted */\n",
              "  background: var(--sklearn-color-unfitted-level-0);\n",
              "  border: .5pt solid var(--sklearn-color-unfitted-level-3);\n",
              "}\n",
              "\n",
              ".sk-estimator-doc-link.fitted span {\n",
              "  /* fitted */\n",
              "  background: var(--sklearn-color-fitted-level-0);\n",
              "  border: var(--sklearn-color-fitted-level-3);\n",
              "}\n",
              "\n",
              ".sk-estimator-doc-link:hover span {\n",
              "  display: block;\n",
              "}\n",
              "\n",
              "/* \"?\"-specific style due to the `<a>` HTML tag */\n",
              "\n",
              "#sk-container-id-2 a.estimator_doc_link {\n",
              "  float: right;\n",
              "  font-size: 1rem;\n",
              "  line-height: 1em;\n",
              "  font-family: monospace;\n",
              "  background-color: var(--sklearn-color-background);\n",
              "  border-radius: 1rem;\n",
              "  height: 1rem;\n",
              "  width: 1rem;\n",
              "  text-decoration: none;\n",
              "  /* unfitted */\n",
              "  color: var(--sklearn-color-unfitted-level-1);\n",
              "  border: var(--sklearn-color-unfitted-level-1) 1pt solid;\n",
              "}\n",
              "\n",
              "#sk-container-id-2 a.estimator_doc_link.fitted {\n",
              "  /* fitted */\n",
              "  border: var(--sklearn-color-fitted-level-1) 1pt solid;\n",
              "  color: var(--sklearn-color-fitted-level-1);\n",
              "}\n",
              "\n",
              "/* On hover */\n",
              "#sk-container-id-2 a.estimator_doc_link:hover {\n",
              "  /* unfitted */\n",
              "  background-color: var(--sklearn-color-unfitted-level-3);\n",
              "  color: var(--sklearn-color-background);\n",
              "  text-decoration: none;\n",
              "}\n",
              "\n",
              "#sk-container-id-2 a.estimator_doc_link.fitted:hover {\n",
              "  /* fitted */\n",
              "  background-color: var(--sklearn-color-fitted-level-3);\n",
              "}\n",
              "</style><div id=\"sk-container-id-2\" class=\"sk-top-container\"><div class=\"sk-text-repr-fallback\"><pre>LogisticRegression()</pre><b>In a Jupyter environment, please rerun this cell to show the HTML representation or trust the notebook. <br />On GitHub, the HTML representation is unable to render, please try loading this page with nbviewer.org.</b></div><div class=\"sk-container\" hidden><div class=\"sk-item\"><div class=\"sk-estimator fitted sk-toggleable\"><input class=\"sk-toggleable__control sk-hidden--visually\" id=\"sk-estimator-id-2\" type=\"checkbox\" checked><label for=\"sk-estimator-id-2\" class=\"sk-toggleable__label fitted sk-toggleable__label-arrow fitted\">&nbsp;&nbsp;LogisticRegression<a class=\"sk-estimator-doc-link fitted\" rel=\"noreferrer\" target=\"_blank\" href=\"https://scikit-learn.org/1.5/modules/generated/sklearn.linear_model.LogisticRegression.html\">?<span>Documentation for LogisticRegression</span></a><span class=\"sk-estimator-doc-link fitted\">i<span>Fitted</span></span></label><div class=\"sk-toggleable__content fitted\"><pre>LogisticRegression()</pre></div> </div></div></div></div>"
            ]
          },
          "metadata": {},
          "execution_count": 158
        }
      ]
    },
    {
      "cell_type": "markdown",
      "source": [
        "$$\\text{Balanced Error Rate (BER)} = \\frac{1}{2} (\\text{FPR} + \\text{FNR})\n",
        "$$"
      ],
      "metadata": {
        "id": "KgsIlu8PNPlj"
      },
      "id": "KgsIlu8PNPlj"
    },
    {
      "cell_type": "code",
      "source": [
        "# calculate TP\n",
        "TP = ((Y ==1) & (model.predict(X) == 1)).sum()\n",
        "\n",
        "# calculate TN\n",
        "TN = ((Y ==0) & (model.predict(X) == 0)).sum()\n",
        "\n",
        "# calculate FP\n",
        "FP = ((Y ==0) & (model.predict(X) == 1)).sum()\n",
        "\n",
        "# calculate FN\n",
        "FN = ((Y ==1) & (model.predict(X) == 0)).sum()\n",
        "\n",
        "# calculate FPR\n",
        "FPR = FP / (FP + TN)\n",
        "\n",
        "# calculate FNR\n",
        "FNR = FN / (FN + TP)\n",
        "\n",
        "# calculate BER\n",
        "BER = 0.5 * (FPR + FNR)\n",
        "\n",
        "# convert these value to standard Python types\n",
        "TP = float(TP)\n",
        "TN = float(TN)\n",
        "FP = float(FP)\n",
        "FN = float(FN)\n",
        "BER = float(BER)"
      ],
      "metadata": {
        "id": "gnJzeuV2MKxN"
      },
      "id": "gnJzeuV2MKxN",
      "execution_count": null,
      "outputs": []
    },
    {
      "cell_type": "code",
      "execution_count": null,
      "id": "0c35d20a",
      "metadata": {
        "id": "0c35d20a"
      },
      "outputs": [],
      "source": [
        "answers['Q6'] = [TP, TN, FP, FN, BER]"
      ]
    },
    {
      "cell_type": "code",
      "execution_count": null,
      "id": "9b18991a",
      "metadata": {
        "id": "9b18991a"
      },
      "outputs": [],
      "source": [
        "assertFloatList(answers['Q6'], 5)"
      ]
    },
    {
      "cell_type": "code",
      "source": [
        "print(answers)"
      ],
      "metadata": {
        "id": "57evR8sPPfD0",
        "outputId": "7bc550fd-d3d2-43b5-dd48-b2d8681e9fc8",
        "colab": {
          "base_uri": "https://localhost:8080/"
        }
      },
      "id": "57evR8sPPfD0",
      "execution_count": null,
      "outputs": [
        {
          "output_type": "stream",
          "name": "stdout",
          "text": [
            "{'Q1': [3.6885330408320183, 0.07109019019954144, 1.5231747404538287], 'Q2': [3.7175128077972004, -4.121506529487903e-05, 0.07527591733232622, 1.5214029246165832], 'Q3': [1.5231747404538285, 1.5046686106250917, 1.4966845515179226, 1.490447730223069, 1.4896106953961645], 'Q4': [1.4938618031861384, 1.4811373987988723, 1.4766152128575782, 1.4683987737840865, 1.4673281360474502], 'Q5': 0.9709800999999961, 'Q6': [0.0, 20095.0, 0.0, 308.0, 0.5]}\n"
          ]
        }
      ]
    },
    {
      "cell_type": "markdown",
      "source": [
        "# Question 7"
      ],
      "metadata": {
        "id": "XSLcx7j7wizc"
      },
      "id": "XSLcx7j7wizc"
    },
    {
      "cell_type": "code",
      "source": [
        "# Fit a logistic regressor\n",
        "# use a logistic regression library with default parameters, e.g. linear model.LogisticRegression() from sklearn\n",
        "model = linear_model.LogisticRegression(class_weight = 'balanced')\n",
        "model.fit(X,Y)"
      ],
      "metadata": {
        "id": "MXGXBLM_RNCV",
        "outputId": "f314e72c-d258-40e3-f6d6-5f2286fcec57",
        "colab": {
          "base_uri": "https://localhost:8080/",
          "height": 80
        }
      },
      "id": "MXGXBLM_RNCV",
      "execution_count": null,
      "outputs": [
        {
          "output_type": "execute_result",
          "data": {
            "text/plain": [
              "LogisticRegression(class_weight='balanced')"
            ],
            "text/html": [
              "<style>#sk-container-id-3 {\n",
              "  /* Definition of color scheme common for light and dark mode */\n",
              "  --sklearn-color-text: black;\n",
              "  --sklearn-color-line: gray;\n",
              "  /* Definition of color scheme for unfitted estimators */\n",
              "  --sklearn-color-unfitted-level-0: #fff5e6;\n",
              "  --sklearn-color-unfitted-level-1: #f6e4d2;\n",
              "  --sklearn-color-unfitted-level-2: #ffe0b3;\n",
              "  --sklearn-color-unfitted-level-3: chocolate;\n",
              "  /* Definition of color scheme for fitted estimators */\n",
              "  --sklearn-color-fitted-level-0: #f0f8ff;\n",
              "  --sklearn-color-fitted-level-1: #d4ebff;\n",
              "  --sklearn-color-fitted-level-2: #b3dbfd;\n",
              "  --sklearn-color-fitted-level-3: cornflowerblue;\n",
              "\n",
              "  /* Specific color for light theme */\n",
              "  --sklearn-color-text-on-default-background: var(--sg-text-color, var(--theme-code-foreground, var(--jp-content-font-color1, black)));\n",
              "  --sklearn-color-background: var(--sg-background-color, var(--theme-background, var(--jp-layout-color0, white)));\n",
              "  --sklearn-color-border-box: var(--sg-text-color, var(--theme-code-foreground, var(--jp-content-font-color1, black)));\n",
              "  --sklearn-color-icon: #696969;\n",
              "\n",
              "  @media (prefers-color-scheme: dark) {\n",
              "    /* Redefinition of color scheme for dark theme */\n",
              "    --sklearn-color-text-on-default-background: var(--sg-text-color, var(--theme-code-foreground, var(--jp-content-font-color1, white)));\n",
              "    --sklearn-color-background: var(--sg-background-color, var(--theme-background, var(--jp-layout-color0, #111)));\n",
              "    --sklearn-color-border-box: var(--sg-text-color, var(--theme-code-foreground, var(--jp-content-font-color1, white)));\n",
              "    --sklearn-color-icon: #878787;\n",
              "  }\n",
              "}\n",
              "\n",
              "#sk-container-id-3 {\n",
              "  color: var(--sklearn-color-text);\n",
              "}\n",
              "\n",
              "#sk-container-id-3 pre {\n",
              "  padding: 0;\n",
              "}\n",
              "\n",
              "#sk-container-id-3 input.sk-hidden--visually {\n",
              "  border: 0;\n",
              "  clip: rect(1px 1px 1px 1px);\n",
              "  clip: rect(1px, 1px, 1px, 1px);\n",
              "  height: 1px;\n",
              "  margin: -1px;\n",
              "  overflow: hidden;\n",
              "  padding: 0;\n",
              "  position: absolute;\n",
              "  width: 1px;\n",
              "}\n",
              "\n",
              "#sk-container-id-3 div.sk-dashed-wrapped {\n",
              "  border: 1px dashed var(--sklearn-color-line);\n",
              "  margin: 0 0.4em 0.5em 0.4em;\n",
              "  box-sizing: border-box;\n",
              "  padding-bottom: 0.4em;\n",
              "  background-color: var(--sklearn-color-background);\n",
              "}\n",
              "\n",
              "#sk-container-id-3 div.sk-container {\n",
              "  /* jupyter's `normalize.less` sets `[hidden] { display: none; }`\n",
              "     but bootstrap.min.css set `[hidden] { display: none !important; }`\n",
              "     so we also need the `!important` here to be able to override the\n",
              "     default hidden behavior on the sphinx rendered scikit-learn.org.\n",
              "     See: https://github.com/scikit-learn/scikit-learn/issues/21755 */\n",
              "  display: inline-block !important;\n",
              "  position: relative;\n",
              "}\n",
              "\n",
              "#sk-container-id-3 div.sk-text-repr-fallback {\n",
              "  display: none;\n",
              "}\n",
              "\n",
              "div.sk-parallel-item,\n",
              "div.sk-serial,\n",
              "div.sk-item {\n",
              "  /* draw centered vertical line to link estimators */\n",
              "  background-image: linear-gradient(var(--sklearn-color-text-on-default-background), var(--sklearn-color-text-on-default-background));\n",
              "  background-size: 2px 100%;\n",
              "  background-repeat: no-repeat;\n",
              "  background-position: center center;\n",
              "}\n",
              "\n",
              "/* Parallel-specific style estimator block */\n",
              "\n",
              "#sk-container-id-3 div.sk-parallel-item::after {\n",
              "  content: \"\";\n",
              "  width: 100%;\n",
              "  border-bottom: 2px solid var(--sklearn-color-text-on-default-background);\n",
              "  flex-grow: 1;\n",
              "}\n",
              "\n",
              "#sk-container-id-3 div.sk-parallel {\n",
              "  display: flex;\n",
              "  align-items: stretch;\n",
              "  justify-content: center;\n",
              "  background-color: var(--sklearn-color-background);\n",
              "  position: relative;\n",
              "}\n",
              "\n",
              "#sk-container-id-3 div.sk-parallel-item {\n",
              "  display: flex;\n",
              "  flex-direction: column;\n",
              "}\n",
              "\n",
              "#sk-container-id-3 div.sk-parallel-item:first-child::after {\n",
              "  align-self: flex-end;\n",
              "  width: 50%;\n",
              "}\n",
              "\n",
              "#sk-container-id-3 div.sk-parallel-item:last-child::after {\n",
              "  align-self: flex-start;\n",
              "  width: 50%;\n",
              "}\n",
              "\n",
              "#sk-container-id-3 div.sk-parallel-item:only-child::after {\n",
              "  width: 0;\n",
              "}\n",
              "\n",
              "/* Serial-specific style estimator block */\n",
              "\n",
              "#sk-container-id-3 div.sk-serial {\n",
              "  display: flex;\n",
              "  flex-direction: column;\n",
              "  align-items: center;\n",
              "  background-color: var(--sklearn-color-background);\n",
              "  padding-right: 1em;\n",
              "  padding-left: 1em;\n",
              "}\n",
              "\n",
              "\n",
              "/* Toggleable style: style used for estimator/Pipeline/ColumnTransformer box that is\n",
              "clickable and can be expanded/collapsed.\n",
              "- Pipeline and ColumnTransformer use this feature and define the default style\n",
              "- Estimators will overwrite some part of the style using the `sk-estimator` class\n",
              "*/\n",
              "\n",
              "/* Pipeline and ColumnTransformer style (default) */\n",
              "\n",
              "#sk-container-id-3 div.sk-toggleable {\n",
              "  /* Default theme specific background. It is overwritten whether we have a\n",
              "  specific estimator or a Pipeline/ColumnTransformer */\n",
              "  background-color: var(--sklearn-color-background);\n",
              "}\n",
              "\n",
              "/* Toggleable label */\n",
              "#sk-container-id-3 label.sk-toggleable__label {\n",
              "  cursor: pointer;\n",
              "  display: block;\n",
              "  width: 100%;\n",
              "  margin-bottom: 0;\n",
              "  padding: 0.5em;\n",
              "  box-sizing: border-box;\n",
              "  text-align: center;\n",
              "}\n",
              "\n",
              "#sk-container-id-3 label.sk-toggleable__label-arrow:before {\n",
              "  /* Arrow on the left of the label */\n",
              "  content: \"▸\";\n",
              "  float: left;\n",
              "  margin-right: 0.25em;\n",
              "  color: var(--sklearn-color-icon);\n",
              "}\n",
              "\n",
              "#sk-container-id-3 label.sk-toggleable__label-arrow:hover:before {\n",
              "  color: var(--sklearn-color-text);\n",
              "}\n",
              "\n",
              "/* Toggleable content - dropdown */\n",
              "\n",
              "#sk-container-id-3 div.sk-toggleable__content {\n",
              "  max-height: 0;\n",
              "  max-width: 0;\n",
              "  overflow: hidden;\n",
              "  text-align: left;\n",
              "  /* unfitted */\n",
              "  background-color: var(--sklearn-color-unfitted-level-0);\n",
              "}\n",
              "\n",
              "#sk-container-id-3 div.sk-toggleable__content.fitted {\n",
              "  /* fitted */\n",
              "  background-color: var(--sklearn-color-fitted-level-0);\n",
              "}\n",
              "\n",
              "#sk-container-id-3 div.sk-toggleable__content pre {\n",
              "  margin: 0.2em;\n",
              "  border-radius: 0.25em;\n",
              "  color: var(--sklearn-color-text);\n",
              "  /* unfitted */\n",
              "  background-color: var(--sklearn-color-unfitted-level-0);\n",
              "}\n",
              "\n",
              "#sk-container-id-3 div.sk-toggleable__content.fitted pre {\n",
              "  /* unfitted */\n",
              "  background-color: var(--sklearn-color-fitted-level-0);\n",
              "}\n",
              "\n",
              "#sk-container-id-3 input.sk-toggleable__control:checked~div.sk-toggleable__content {\n",
              "  /* Expand drop-down */\n",
              "  max-height: 200px;\n",
              "  max-width: 100%;\n",
              "  overflow: auto;\n",
              "}\n",
              "\n",
              "#sk-container-id-3 input.sk-toggleable__control:checked~label.sk-toggleable__label-arrow:before {\n",
              "  content: \"▾\";\n",
              "}\n",
              "\n",
              "/* Pipeline/ColumnTransformer-specific style */\n",
              "\n",
              "#sk-container-id-3 div.sk-label input.sk-toggleable__control:checked~label.sk-toggleable__label {\n",
              "  color: var(--sklearn-color-text);\n",
              "  background-color: var(--sklearn-color-unfitted-level-2);\n",
              "}\n",
              "\n",
              "#sk-container-id-3 div.sk-label.fitted input.sk-toggleable__control:checked~label.sk-toggleable__label {\n",
              "  background-color: var(--sklearn-color-fitted-level-2);\n",
              "}\n",
              "\n",
              "/* Estimator-specific style */\n",
              "\n",
              "/* Colorize estimator box */\n",
              "#sk-container-id-3 div.sk-estimator input.sk-toggleable__control:checked~label.sk-toggleable__label {\n",
              "  /* unfitted */\n",
              "  background-color: var(--sklearn-color-unfitted-level-2);\n",
              "}\n",
              "\n",
              "#sk-container-id-3 div.sk-estimator.fitted input.sk-toggleable__control:checked~label.sk-toggleable__label {\n",
              "  /* fitted */\n",
              "  background-color: var(--sklearn-color-fitted-level-2);\n",
              "}\n",
              "\n",
              "#sk-container-id-3 div.sk-label label.sk-toggleable__label,\n",
              "#sk-container-id-3 div.sk-label label {\n",
              "  /* The background is the default theme color */\n",
              "  color: var(--sklearn-color-text-on-default-background);\n",
              "}\n",
              "\n",
              "/* On hover, darken the color of the background */\n",
              "#sk-container-id-3 div.sk-label:hover label.sk-toggleable__label {\n",
              "  color: var(--sklearn-color-text);\n",
              "  background-color: var(--sklearn-color-unfitted-level-2);\n",
              "}\n",
              "\n",
              "/* Label box, darken color on hover, fitted */\n",
              "#sk-container-id-3 div.sk-label.fitted:hover label.sk-toggleable__label.fitted {\n",
              "  color: var(--sklearn-color-text);\n",
              "  background-color: var(--sklearn-color-fitted-level-2);\n",
              "}\n",
              "\n",
              "/* Estimator label */\n",
              "\n",
              "#sk-container-id-3 div.sk-label label {\n",
              "  font-family: monospace;\n",
              "  font-weight: bold;\n",
              "  display: inline-block;\n",
              "  line-height: 1.2em;\n",
              "}\n",
              "\n",
              "#sk-container-id-3 div.sk-label-container {\n",
              "  text-align: center;\n",
              "}\n",
              "\n",
              "/* Estimator-specific */\n",
              "#sk-container-id-3 div.sk-estimator {\n",
              "  font-family: monospace;\n",
              "  border: 1px dotted var(--sklearn-color-border-box);\n",
              "  border-radius: 0.25em;\n",
              "  box-sizing: border-box;\n",
              "  margin-bottom: 0.5em;\n",
              "  /* unfitted */\n",
              "  background-color: var(--sklearn-color-unfitted-level-0);\n",
              "}\n",
              "\n",
              "#sk-container-id-3 div.sk-estimator.fitted {\n",
              "  /* fitted */\n",
              "  background-color: var(--sklearn-color-fitted-level-0);\n",
              "}\n",
              "\n",
              "/* on hover */\n",
              "#sk-container-id-3 div.sk-estimator:hover {\n",
              "  /* unfitted */\n",
              "  background-color: var(--sklearn-color-unfitted-level-2);\n",
              "}\n",
              "\n",
              "#sk-container-id-3 div.sk-estimator.fitted:hover {\n",
              "  /* fitted */\n",
              "  background-color: var(--sklearn-color-fitted-level-2);\n",
              "}\n",
              "\n",
              "/* Specification for estimator info (e.g. \"i\" and \"?\") */\n",
              "\n",
              "/* Common style for \"i\" and \"?\" */\n",
              "\n",
              ".sk-estimator-doc-link,\n",
              "a:link.sk-estimator-doc-link,\n",
              "a:visited.sk-estimator-doc-link {\n",
              "  float: right;\n",
              "  font-size: smaller;\n",
              "  line-height: 1em;\n",
              "  font-family: monospace;\n",
              "  background-color: var(--sklearn-color-background);\n",
              "  border-radius: 1em;\n",
              "  height: 1em;\n",
              "  width: 1em;\n",
              "  text-decoration: none !important;\n",
              "  margin-left: 1ex;\n",
              "  /* unfitted */\n",
              "  border: var(--sklearn-color-unfitted-level-1) 1pt solid;\n",
              "  color: var(--sklearn-color-unfitted-level-1);\n",
              "}\n",
              "\n",
              ".sk-estimator-doc-link.fitted,\n",
              "a:link.sk-estimator-doc-link.fitted,\n",
              "a:visited.sk-estimator-doc-link.fitted {\n",
              "  /* fitted */\n",
              "  border: var(--sklearn-color-fitted-level-1) 1pt solid;\n",
              "  color: var(--sklearn-color-fitted-level-1);\n",
              "}\n",
              "\n",
              "/* On hover */\n",
              "div.sk-estimator:hover .sk-estimator-doc-link:hover,\n",
              ".sk-estimator-doc-link:hover,\n",
              "div.sk-label-container:hover .sk-estimator-doc-link:hover,\n",
              ".sk-estimator-doc-link:hover {\n",
              "  /* unfitted */\n",
              "  background-color: var(--sklearn-color-unfitted-level-3);\n",
              "  color: var(--sklearn-color-background);\n",
              "  text-decoration: none;\n",
              "}\n",
              "\n",
              "div.sk-estimator.fitted:hover .sk-estimator-doc-link.fitted:hover,\n",
              ".sk-estimator-doc-link.fitted:hover,\n",
              "div.sk-label-container:hover .sk-estimator-doc-link.fitted:hover,\n",
              ".sk-estimator-doc-link.fitted:hover {\n",
              "  /* fitted */\n",
              "  background-color: var(--sklearn-color-fitted-level-3);\n",
              "  color: var(--sklearn-color-background);\n",
              "  text-decoration: none;\n",
              "}\n",
              "\n",
              "/* Span, style for the box shown on hovering the info icon */\n",
              ".sk-estimator-doc-link span {\n",
              "  display: none;\n",
              "  z-index: 9999;\n",
              "  position: relative;\n",
              "  font-weight: normal;\n",
              "  right: .2ex;\n",
              "  padding: .5ex;\n",
              "  margin: .5ex;\n",
              "  width: min-content;\n",
              "  min-width: 20ex;\n",
              "  max-width: 50ex;\n",
              "  color: var(--sklearn-color-text);\n",
              "  box-shadow: 2pt 2pt 4pt #999;\n",
              "  /* unfitted */\n",
              "  background: var(--sklearn-color-unfitted-level-0);\n",
              "  border: .5pt solid var(--sklearn-color-unfitted-level-3);\n",
              "}\n",
              "\n",
              ".sk-estimator-doc-link.fitted span {\n",
              "  /* fitted */\n",
              "  background: var(--sklearn-color-fitted-level-0);\n",
              "  border: var(--sklearn-color-fitted-level-3);\n",
              "}\n",
              "\n",
              ".sk-estimator-doc-link:hover span {\n",
              "  display: block;\n",
              "}\n",
              "\n",
              "/* \"?\"-specific style due to the `<a>` HTML tag */\n",
              "\n",
              "#sk-container-id-3 a.estimator_doc_link {\n",
              "  float: right;\n",
              "  font-size: 1rem;\n",
              "  line-height: 1em;\n",
              "  font-family: monospace;\n",
              "  background-color: var(--sklearn-color-background);\n",
              "  border-radius: 1rem;\n",
              "  height: 1rem;\n",
              "  width: 1rem;\n",
              "  text-decoration: none;\n",
              "  /* unfitted */\n",
              "  color: var(--sklearn-color-unfitted-level-1);\n",
              "  border: var(--sklearn-color-unfitted-level-1) 1pt solid;\n",
              "}\n",
              "\n",
              "#sk-container-id-3 a.estimator_doc_link.fitted {\n",
              "  /* fitted */\n",
              "  border: var(--sklearn-color-fitted-level-1) 1pt solid;\n",
              "  color: var(--sklearn-color-fitted-level-1);\n",
              "}\n",
              "\n",
              "/* On hover */\n",
              "#sk-container-id-3 a.estimator_doc_link:hover {\n",
              "  /* unfitted */\n",
              "  background-color: var(--sklearn-color-unfitted-level-3);\n",
              "  color: var(--sklearn-color-background);\n",
              "  text-decoration: none;\n",
              "}\n",
              "\n",
              "#sk-container-id-3 a.estimator_doc_link.fitted:hover {\n",
              "  /* fitted */\n",
              "  background-color: var(--sklearn-color-fitted-level-3);\n",
              "}\n",
              "</style><div id=\"sk-container-id-3\" class=\"sk-top-container\"><div class=\"sk-text-repr-fallback\"><pre>LogisticRegression(class_weight=&#x27;balanced&#x27;)</pre><b>In a Jupyter environment, please rerun this cell to show the HTML representation or trust the notebook. <br />On GitHub, the HTML representation is unable to render, please try loading this page with nbviewer.org.</b></div><div class=\"sk-container\" hidden><div class=\"sk-item\"><div class=\"sk-estimator fitted sk-toggleable\"><input class=\"sk-toggleable__control sk-hidden--visually\" id=\"sk-estimator-id-3\" type=\"checkbox\" checked><label for=\"sk-estimator-id-3\" class=\"sk-toggleable__label fitted sk-toggleable__label-arrow fitted\">&nbsp;&nbsp;LogisticRegression<a class=\"sk-estimator-doc-link fitted\" rel=\"noreferrer\" target=\"_blank\" href=\"https://scikit-learn.org/1.5/modules/generated/sklearn.linear_model.LogisticRegression.html\">?<span>Documentation for LogisticRegression</span></a><span class=\"sk-estimator-doc-link fitted\">i<span>Fitted</span></span></label><div class=\"sk-toggleable__content fitted\"><pre>LogisticRegression(class_weight=&#x27;balanced&#x27;)</pre></div> </div></div></div></div>"
            ]
          },
          "metadata": {},
          "execution_count": 169
        }
      ]
    },
    {
      "cell_type": "code",
      "source": [
        "# calculate TP\n",
        "TP = ((Y ==1) & (model.predict(X) == 1)).sum()\n",
        "\n",
        "# calculate TN\n",
        "TN = ((Y ==0) & (model.predict(X) == 0)).sum()\n",
        "\n",
        "# calculate FP\n",
        "FP = ((Y ==0) & (model.predict(X) == 1)).sum()\n",
        "\n",
        "# calculate FN\n",
        "FN = ((Y ==1) & (model.predict(X) == 0)).sum()\n",
        "\n",
        "# calculate FPR\n",
        "FPR = FP / (FP + TN)\n",
        "\n",
        "# calculate FNR\n",
        "FNR = FN / (FN + TP)\n",
        "\n",
        "# calculate BER\n",
        "BER = 0.5 * (FPR + FNR)\n",
        "\n",
        "# convert these value to standard Python types\n",
        "TP = float(TP)\n",
        "TN = float(TN)\n",
        "FP = float(FP)\n",
        "FN = float(FN)\n",
        "BER = float(BER)"
      ],
      "metadata": {
        "id": "8rtBqeSRRxPW"
      },
      "id": "8rtBqeSRRxPW",
      "execution_count": null,
      "outputs": []
    },
    {
      "cell_type": "code",
      "execution_count": null,
      "id": "0622704c",
      "metadata": {
        "id": "0622704c"
      },
      "outputs": [],
      "source": [
        "answers[\"Q7\"] = [TP, TN, FP, FN, BER]"
      ]
    },
    {
      "cell_type": "code",
      "execution_count": null,
      "id": "efb03c92",
      "metadata": {
        "id": "efb03c92"
      },
      "outputs": [],
      "source": [
        "assertFloatList(answers['Q7'], 5)"
      ]
    },
    {
      "cell_type": "markdown",
      "source": [
        "# Question 8"
      ],
      "metadata": {
        "id": "uBVLKew9wk-u"
      },
      "id": "uBVLKew9wk-u"
    },
    {
      "cell_type": "code",
      "source": [
        "# calculate scores\n",
        "scores = model.decision_function(X)\n",
        "len(scores)"
      ],
      "metadata": {
        "id": "7Nbj7AxUawKi",
        "outputId": "25298ba5-97ce-4e5b-9338-80dcb565ca1a",
        "colab": {
          "base_uri": "https://localhost:8080/"
        }
      },
      "id": "7Nbj7AxUawKi",
      "execution_count": null,
      "outputs": [
        {
          "output_type": "execute_result",
          "data": {
            "text/plain": [
              "20403"
            ]
          },
          "metadata": {},
          "execution_count": 182
        }
      ]
    },
    {
      "cell_type": "code",
      "source": [
        "# concate scores and Y\n",
        "scores_Y = list(zip(scores, Y))"
      ],
      "metadata": {
        "id": "1sy2J1mZeDb7"
      },
      "id": "1sy2J1mZeDb7",
      "execution_count": null,
      "outputs": []
    },
    {
      "cell_type": "markdown",
      "source": [
        "Note: highest score most confident"
      ],
      "metadata": {
        "id": "mCnp6kZTdi8j"
      },
      "id": "mCnp6kZTdi8j"
    },
    {
      "cell_type": "code",
      "source": [
        "# Sort scores_Y decsenting order\n",
        "sorted_scores_Y = sorted(scores_Y, key = lambda x: x[0], reverse = True)\n",
        "sorted_scores_Y[:10]"
      ],
      "metadata": {
        "id": "FYRbChfedMvD",
        "outputId": "1e22c70f-7699-428f-fb31-e72d9404feb4",
        "colab": {
          "base_uri": "https://localhost:8080/"
        }
      },
      "id": "FYRbChfedMvD",
      "execution_count": null,
      "outputs": [
        {
          "output_type": "execute_result",
          "data": {
            "text/plain": [
              "[(4.038066673916104, 0),\n",
              " (2.7298688337326604, 0),\n",
              " (2.7298688337326604, 0),\n",
              " (2.542983427992169, 0),\n",
              " (2.542983427992169, 0),\n",
              " (2.3560980222516767, 0),\n",
              " (2.1692126165111847, 0),\n",
              " (2.1692126165111847, 0),\n",
              " (2.1692126165111847, 0),\n",
              " (1.982327210770693, 0)]"
            ]
          },
          "metadata": {},
          "execution_count": 187
        }
      ]
    },
    {
      "cell_type": "code",
      "source": [
        "precisionList = []"
      ],
      "metadata": {
        "id": "0zI9kjSWfFCv"
      },
      "id": "0zI9kjSWfFCv",
      "execution_count": null,
      "outputs": []
    },
    {
      "cell_type": "code",
      "source": [
        "ks = [1, 10, 100, 1000, 10000]\n",
        "\n",
        "# Calculate precisions @ ks\n",
        "for k in ks:\n",
        "  TP = 0\n",
        "  for i in range(k):\n",
        "    if sorted_scores_Y[i][0] > 0 and (sorted_scores_Y[i][1] == 1):\n",
        "      TP += 1\n",
        "  precision = TP / k\n",
        "  precisionList.append(precision)"
      ],
      "metadata": {
        "id": "Xqt5jo8qfIbi"
      },
      "id": "Xqt5jo8qfIbi",
      "execution_count": null,
      "outputs": []
    },
    {
      "cell_type": "code",
      "execution_count": null,
      "id": "764513e1",
      "metadata": {
        "id": "764513e1"
      },
      "outputs": [],
      "source": [
        "answers['Q8'] = precisionList"
      ]
    },
    {
      "cell_type": "code",
      "execution_count": null,
      "id": "b0d7d87a",
      "metadata": {
        "id": "b0d7d87a"
      },
      "outputs": [],
      "source": [
        "assertFloatList(answers['Q8'], 5) #List of five floats"
      ]
    },
    {
      "cell_type": "markdown",
      "source": [
        "# Write Answer to File\n"
      ],
      "metadata": {
        "id": "Nep3-DtbasRI"
      },
      "id": "Nep3-DtbasRI"
    },
    {
      "cell_type": "code",
      "execution_count": null,
      "id": "d557ab88",
      "metadata": {
        "id": "d557ab88"
      },
      "outputs": [],
      "source": [
        "f = open(\"answers_hw1.txt\", 'w') # Write your answers to a file\n",
        "f.write(str(answers) + '\\n')\n",
        "f.close()"
      ]
    },
    {
      "cell_type": "code",
      "execution_count": null,
      "id": "63b457fc",
      "metadata": {
        "id": "63b457fc"
      },
      "outputs": [],
      "source": []
    }
  ],
  "metadata": {
    "kernelspec": {
      "display_name": "Python 3 (ipykernel)",
      "language": "python",
      "name": "python3"
    },
    "language_info": {
      "codemirror_mode": {
        "name": "ipython",
        "version": 3
      },
      "file_extension": ".py",
      "mimetype": "text/x-python",
      "name": "python",
      "nbconvert_exporter": "python",
      "pygments_lexer": "ipython3",
      "version": "3.7.3"
    },
    "colab": {
      "provenance": []
    }
  },
  "nbformat": 4,
  "nbformat_minor": 5
}